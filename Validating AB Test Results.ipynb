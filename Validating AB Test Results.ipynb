{
 "cells": [
  {
   "cell_type": "code",
   "execution_count": 1,
   "metadata": {},
   "outputs": [],
   "source": [
    "import numpy as np\n",
    "import pandas as pd\n",
    "import matplotlib.pyplot as plt\n",
    "from scipy import stats\n",
    "from scipy.stats import norm\n",
    "import datetime\n",
    "from pandasql import sqldf\n",
    "import seaborn as sns\n",
    "sns.set(style=\"darkgrid\")"
   ]
  },
  {
   "cell_type": "markdown",
   "metadata": {},
   "source": [
    "## 1. Overviews\n",
    "\n",
    "### 1.1 Tables\n",
    "#### 1.1.1 yammer_users"
   ]
  },
  {
   "cell_type": "code",
   "execution_count": 2,
   "metadata": {},
   "outputs": [
    {
     "data": {
      "text/html": [
       "<div>\n",
       "<style scoped>\n",
       "    .dataframe tbody tr th:only-of-type {\n",
       "        vertical-align: middle;\n",
       "    }\n",
       "\n",
       "    .dataframe tbody tr th {\n",
       "        vertical-align: top;\n",
       "    }\n",
       "\n",
       "    .dataframe thead th {\n",
       "        text-align: right;\n",
       "    }\n",
       "</style>\n",
       "<table border=\"1\" class=\"dataframe\">\n",
       "  <thead>\n",
       "    <tr style=\"text-align: right;\">\n",
       "      <th></th>\n",
       "      <th>user_id</th>\n",
       "      <th>created_at</th>\n",
       "      <th>company_id</th>\n",
       "      <th>language</th>\n",
       "      <th>activated_at</th>\n",
       "      <th>state</th>\n",
       "    </tr>\n",
       "  </thead>\n",
       "  <tbody>\n",
       "    <tr>\n",
       "      <th>0</th>\n",
       "      <td>0.0</td>\n",
       "      <td>2013-01-01 20:59:39</td>\n",
       "      <td>5737.0</td>\n",
       "      <td>english</td>\n",
       "      <td>2013-01-01 21:01:07</td>\n",
       "      <td>active</td>\n",
       "    </tr>\n",
       "    <tr>\n",
       "      <th>1</th>\n",
       "      <td>1.0</td>\n",
       "      <td>2013-01-01 13:07:46</td>\n",
       "      <td>28.0</td>\n",
       "      <td>english</td>\n",
       "      <td>NaN</td>\n",
       "      <td>pending</td>\n",
       "    </tr>\n",
       "    <tr>\n",
       "      <th>2</th>\n",
       "      <td>2.0</td>\n",
       "      <td>2013-01-01 10:59:05</td>\n",
       "      <td>51.0</td>\n",
       "      <td>english</td>\n",
       "      <td>NaN</td>\n",
       "      <td>pending</td>\n",
       "    </tr>\n",
       "    <tr>\n",
       "      <th>3</th>\n",
       "      <td>3.0</td>\n",
       "      <td>2013-01-01 18:40:36</td>\n",
       "      <td>2800.0</td>\n",
       "      <td>german</td>\n",
       "      <td>2013-01-01 18:42:02</td>\n",
       "      <td>active</td>\n",
       "    </tr>\n",
       "    <tr>\n",
       "      <th>4</th>\n",
       "      <td>4.0</td>\n",
       "      <td>2013-01-01 14:37:51</td>\n",
       "      <td>5110.0</td>\n",
       "      <td>indian</td>\n",
       "      <td>2013-01-01 14:39:05</td>\n",
       "      <td>active</td>\n",
       "    </tr>\n",
       "  </tbody>\n",
       "</table>\n",
       "</div>"
      ],
      "text/plain": [
       "   user_id           created_at  company_id language         activated_at  \\\n",
       "0      0.0  2013-01-01 20:59:39      5737.0  english  2013-01-01 21:01:07   \n",
       "1      1.0  2013-01-01 13:07:46        28.0  english                  NaN   \n",
       "2      2.0  2013-01-01 10:59:05        51.0  english                  NaN   \n",
       "3      3.0  2013-01-01 18:40:36      2800.0   german  2013-01-01 18:42:02   \n",
       "4      4.0  2013-01-01 14:37:51      5110.0   indian  2013-01-01 14:39:05   \n",
       "\n",
       "     state  \n",
       "0   active  \n",
       "1  pending  \n",
       "2  pending  \n",
       "3   active  \n",
       "4   active  "
      ]
     },
     "execution_count": 2,
     "metadata": {},
     "output_type": "execute_result"
    }
   ],
   "source": [
    "users = pd.read_csv('yammer_users.csv')\n",
    "users.head()"
   ]
  },
  {
   "cell_type": "markdown",
   "metadata": {},
   "source": [
    "#### 1.1.2 yammer_experiments\n",
    "Inside this table, the `experiment_group` column indicates which record belongs to control group while which one is experimental group."
   ]
  },
  {
   "cell_type": "code",
   "execution_count": 3,
   "metadata": {},
   "outputs": [
    {
     "data": {
      "text/html": [
       "<div>\n",
       "<style scoped>\n",
       "    .dataframe tbody tr th:only-of-type {\n",
       "        vertical-align: middle;\n",
       "    }\n",
       "\n",
       "    .dataframe tbody tr th {\n",
       "        vertical-align: top;\n",
       "    }\n",
       "\n",
       "    .dataframe thead th {\n",
       "        text-align: right;\n",
       "    }\n",
       "</style>\n",
       "<table border=\"1\" class=\"dataframe\">\n",
       "  <thead>\n",
       "    <tr style=\"text-align: right;\">\n",
       "      <th></th>\n",
       "      <th>user_id</th>\n",
       "      <th>occurred_at</th>\n",
       "      <th>experiment</th>\n",
       "      <th>experiment_group</th>\n",
       "      <th>location</th>\n",
       "      <th>device</th>\n",
       "      <th>user_type</th>\n",
       "    </tr>\n",
       "  </thead>\n",
       "  <tbody>\n",
       "    <tr>\n",
       "      <th>0</th>\n",
       "      <td>4.0</td>\n",
       "      <td>2014-06-05 15:20:16</td>\n",
       "      <td>publisher_update</td>\n",
       "      <td>control_group</td>\n",
       "      <td>India</td>\n",
       "      <td>lenovo thinkpad</td>\n",
       "      <td>3.0</td>\n",
       "    </tr>\n",
       "    <tr>\n",
       "      <th>1</th>\n",
       "      <td>8198.0</td>\n",
       "      <td>2014-06-11 09:31:32</td>\n",
       "      <td>publisher_update</td>\n",
       "      <td>control_group</td>\n",
       "      <td>Japan</td>\n",
       "      <td>nokia lumia 635</td>\n",
       "      <td>1.0</td>\n",
       "    </tr>\n",
       "    <tr>\n",
       "      <th>2</th>\n",
       "      <td>11.0</td>\n",
       "      <td>2014-06-17 09:31:22</td>\n",
       "      <td>publisher_update</td>\n",
       "      <td>control_group</td>\n",
       "      <td>United States</td>\n",
       "      <td>iphone 4s</td>\n",
       "      <td>1.0</td>\n",
       "    </tr>\n",
       "    <tr>\n",
       "      <th>3</th>\n",
       "      <td>8209.0</td>\n",
       "      <td>2014-06-04 09:31:21</td>\n",
       "      <td>publisher_update</td>\n",
       "      <td>test_group</td>\n",
       "      <td>Turkey</td>\n",
       "      <td>nokia lumia 635</td>\n",
       "      <td>1.0</td>\n",
       "    </tr>\n",
       "    <tr>\n",
       "      <th>4</th>\n",
       "      <td>19.0</td>\n",
       "      <td>2014-06-04 09:31:33</td>\n",
       "      <td>publisher_update</td>\n",
       "      <td>test_group</td>\n",
       "      <td>Nigeria</td>\n",
       "      <td>iphone 5</td>\n",
       "      <td>1.0</td>\n",
       "    </tr>\n",
       "  </tbody>\n",
       "</table>\n",
       "</div>"
      ],
      "text/plain": [
       "   user_id          occurred_at        experiment experiment_group  \\\n",
       "0      4.0  2014-06-05 15:20:16  publisher_update    control_group   \n",
       "1   8198.0  2014-06-11 09:31:32  publisher_update    control_group   \n",
       "2     11.0  2014-06-17 09:31:22  publisher_update    control_group   \n",
       "3   8209.0  2014-06-04 09:31:21  publisher_update       test_group   \n",
       "4     19.0  2014-06-04 09:31:33  publisher_update       test_group   \n",
       "\n",
       "        location           device  user_type  \n",
       "0          India  lenovo thinkpad        3.0  \n",
       "1          Japan  nokia lumia 635        1.0  \n",
       "2  United States        iphone 4s        1.0  \n",
       "3         Turkey  nokia lumia 635        1.0  \n",
       "4        Nigeria         iphone 5        1.0  "
      ]
     },
     "execution_count": 3,
     "metadata": {},
     "output_type": "execute_result"
    }
   ],
   "source": [
    "experiments = pd.read_csv('yammer_experiments.csv')\n",
    "experiments.head()"
   ]
  },
  {
   "cell_type": "markdown",
   "metadata": {},
   "source": [
    "#### 1.1.3 yammer_events"
   ]
  },
  {
   "cell_type": "code",
   "execution_count": 4,
   "metadata": {},
   "outputs": [
    {
     "data": {
      "text/html": [
       "<div>\n",
       "<style scoped>\n",
       "    .dataframe tbody tr th:only-of-type {\n",
       "        vertical-align: middle;\n",
       "    }\n",
       "\n",
       "    .dataframe tbody tr th {\n",
       "        vertical-align: top;\n",
       "    }\n",
       "\n",
       "    .dataframe thead th {\n",
       "        text-align: right;\n",
       "    }\n",
       "</style>\n",
       "<table border=\"1\" class=\"dataframe\">\n",
       "  <thead>\n",
       "    <tr style=\"text-align: right;\">\n",
       "      <th></th>\n",
       "      <th>user_id</th>\n",
       "      <th>occurred_at</th>\n",
       "      <th>event_type</th>\n",
       "      <th>event_name</th>\n",
       "      <th>location</th>\n",
       "      <th>device</th>\n",
       "      <th>user_type</th>\n",
       "    </tr>\n",
       "  </thead>\n",
       "  <tbody>\n",
       "    <tr>\n",
       "      <th>0</th>\n",
       "      <td>10522.0</td>\n",
       "      <td>2014-05-02 11:02:39</td>\n",
       "      <td>engagement</td>\n",
       "      <td>login</td>\n",
       "      <td>Japan</td>\n",
       "      <td>dell inspiron notebook</td>\n",
       "      <td>3.0</td>\n",
       "    </tr>\n",
       "    <tr>\n",
       "      <th>1</th>\n",
       "      <td>10522.0</td>\n",
       "      <td>2014-05-02 11:02:53</td>\n",
       "      <td>engagement</td>\n",
       "      <td>home_page</td>\n",
       "      <td>Japan</td>\n",
       "      <td>dell inspiron notebook</td>\n",
       "      <td>3.0</td>\n",
       "    </tr>\n",
       "    <tr>\n",
       "      <th>2</th>\n",
       "      <td>10522.0</td>\n",
       "      <td>2014-05-02 11:03:28</td>\n",
       "      <td>engagement</td>\n",
       "      <td>like_message</td>\n",
       "      <td>Japan</td>\n",
       "      <td>dell inspiron notebook</td>\n",
       "      <td>3.0</td>\n",
       "    </tr>\n",
       "    <tr>\n",
       "      <th>3</th>\n",
       "      <td>10522.0</td>\n",
       "      <td>2014-05-02 11:04:09</td>\n",
       "      <td>engagement</td>\n",
       "      <td>view_inbox</td>\n",
       "      <td>Japan</td>\n",
       "      <td>dell inspiron notebook</td>\n",
       "      <td>3.0</td>\n",
       "    </tr>\n",
       "    <tr>\n",
       "      <th>4</th>\n",
       "      <td>10522.0</td>\n",
       "      <td>2014-05-02 11:03:16</td>\n",
       "      <td>engagement</td>\n",
       "      <td>search_run</td>\n",
       "      <td>Japan</td>\n",
       "      <td>dell inspiron notebook</td>\n",
       "      <td>3.0</td>\n",
       "    </tr>\n",
       "  </tbody>\n",
       "</table>\n",
       "</div>"
      ],
      "text/plain": [
       "   user_id          occurred_at  event_type    event_name location  \\\n",
       "0  10522.0  2014-05-02 11:02:39  engagement         login    Japan   \n",
       "1  10522.0  2014-05-02 11:02:53  engagement     home_page    Japan   \n",
       "2  10522.0  2014-05-02 11:03:28  engagement  like_message    Japan   \n",
       "3  10522.0  2014-05-02 11:04:09  engagement    view_inbox    Japan   \n",
       "4  10522.0  2014-05-02 11:03:16  engagement    search_run    Japan   \n",
       "\n",
       "                   device  user_type  \n",
       "0  dell inspiron notebook        3.0  \n",
       "1  dell inspiron notebook        3.0  \n",
       "2  dell inspiron notebook        3.0  \n",
       "3  dell inspiron notebook        3.0  \n",
       "4  dell inspiron notebook        3.0  "
      ]
     },
     "execution_count": 4,
     "metadata": {},
     "output_type": "execute_result"
    }
   ],
   "source": [
    "events = pd.DataFrame()\n",
    "for i in range(1, 4):\n",
    "    df = pd.read_csv('yammer_events%d.csv' % i)\n",
    "    events = pd.concat([events, df], ignore_index = True)\n",
    "\n",
    "events.head()"
   ]
  },
  {
   "cell_type": "markdown",
   "metadata": {},
   "source": [
    "### 1.2 Problem Description\n",
    "\n",
    "Like many software companies, Yammer freqently tests these features before releasing them to all of their customers. A/B testing is an experimental method to help analysts and product managers better understand a feature's effect on user behavior and the overall user experience.\n",
    "\n",
    "In this case, I focus on an improvement to Yammer's core 'publisher' - the module at the top of a Yammer feed where usrs type their messages. To test this feature, the product team ran an A/B test from June 1 to June 30, 2014. During this period, some users who logged into Yammer were shown the old version of the publisher (i.e. 'control group'), while other users were shown the new version (i.e. 'experiment/test group').\n",
    "\n",
    "Things to be considerd on the test:\n",
    "- Check to make sure that this test was run correctly. Is the query that calculates lift and p-value correct?\n",
    "- Check other metrics to make sure that this outsized result is not isolated to this one metric. What other metrics are import? Do they show similar improvements?\n",
    "- Check that the data is correct. Are there problems with the way the test results were recorded or the way users were treated into test and control groups? If something is incorrect, determine the steps necessary to correct the problem.\n",
    "- Make the final recommendation based on your conclusions. Should the new publisher be rolled out to everone? Should it be re-tested? If so, what should be different? Should it be abandoned entirely?"
   ]
  },
  {
   "cell_type": "markdown",
   "metadata": {},
   "source": [
    "## 2 Analysis\n",
    "\n",
    "### 2.1 Preparation and prioritizing\n",
    "Before digging around the test data, it's important to hypothesize how a feature might change user behavior, and why. If you identify changes in the data first, it can be very easy to rationalize why these changes should be obvious, even if you never would have have thought of them before the experiment.\n",
    "\n",
    "- __Metrics__ : Average user logins, Average days of users' engagement, Average messages user sent\n",
    "\n",
    "Similarly, it's important to develop hypotheses for explaining test results before looking further into the data. These hypotheses focus your thinking, provide specific conclusions to validate, and keep you from always concluding that the first potential answer you find is the right one.\n",
    "\n",
    "- __Testing Hypothesis__ : Test of Equality of Two Means\n",
    "\n",
    "*Recall for Hypothesis Testing*:\n",
    "\n",
    "*Since we have two independent samples (experiment and control group) from two normal distributions (central limit theorm, when sample size is large enough, the sample distribution tends to follow normal distribution), also given known and unequal variances (we can calculated from samples) $\\sigma_X^2 = \\sigma_Y^2$, then:*\n",
    "\n",
    "*The null hypothesis: $H_0 : \\mu_x - \\mu_y = 0$*\n",
    "\n",
    "*The alternative hypothesis: $H_1 : \\mu_x - \\mu_y \\neq 0$*\n",
    "\n",
    "*The test statistic:*\n",
    "\n",
    "$$ T = \\frac{(\\bar X - \\bar Y)-(\\mu_X - \\mu_Y)}{\\sqrt{\\frac{S_X^2}{n} + \\frac{S_Y^2}{m}}} $$\n",
    "\n",
    "*and the adjusted degrees for freedom is determined by:*\n",
    "$$df = \\frac{(\\frac{S_X^2}{n} + \\frac{S_Y^2}{m})^2}{\\frac{({S_X^2}/{ n})^2}{n-1} + \\frac{({S_Y^2}/{m})^2}{m-1}}$$\n",
    "*if $df$ doesn't equl to an interger, we then take the interger protion of it*."
   ]
  },
  {
   "cell_type": "markdown",
   "metadata": {},
   "source": [
    "### 2.2 Validating the results"
   ]
  },
  {
   "cell_type": "code",
   "execution_count": 5,
   "metadata": {},
   "outputs": [],
   "source": [
    "# helper function that executes the sql query\n",
    "pysqldf = lambda sql : sqldf(sql, globals())"
   ]
  },
  {
   "cell_type": "markdown",
   "metadata": {},
   "source": [
    "#### 2.2.1 Identifying Metrics\n",
    "The number of messages sent shouldn't be the only determinat of this test's success, so dig into a few other metrics to make sure that their outcomes were also positive. __In particular, we're interested in metrics that determine if a user is getting value out of Yammer.__ (Yammer typically uses login frequency as a core value metric.)\n",
    "\n",
    "__Metric 1: Average logins__\n",
    "\n",
    "First, let's check whether the number of users after running the experiment are significantly higher than before.\n",
    "- __null hypothesis__ : the number of users after experiment is __the same as__ the number of users before.\n",
    "- __alternative hypothesis__ : the number of users after experiment is __significantly diffferent from__ the number of users before."
   ]
  },
  {
   "cell_type": "code",
   "execution_count": 6,
   "metadata": {},
   "outputs": [
    {
     "data": {
      "text/html": [
       "<div>\n",
       "<style scoped>\n",
       "    .dataframe tbody tr th:only-of-type {\n",
       "        vertical-align: middle;\n",
       "    }\n",
       "\n",
       "    .dataframe tbody tr th {\n",
       "        vertical-align: top;\n",
       "    }\n",
       "\n",
       "    .dataframe thead th {\n",
       "        text-align: right;\n",
       "    }\n",
       "</style>\n",
       "<table border=\"1\" class=\"dataframe\">\n",
       "  <thead>\n",
       "    <tr style=\"text-align: right;\">\n",
       "      <th></th>\n",
       "      <th>experiment</th>\n",
       "      <th>experiment_group</th>\n",
       "      <th>treatment_start</th>\n",
       "      <th>user_id</th>\n",
       "      <th>activated_at</th>\n",
       "      <th>metric</th>\n",
       "    </tr>\n",
       "  </thead>\n",
       "  <tbody>\n",
       "    <tr>\n",
       "      <th>0</th>\n",
       "      <td>publisher_update</td>\n",
       "      <td>control_group</td>\n",
       "      <td>2014-06-01 01:02:31</td>\n",
       "      <td>597.0</td>\n",
       "      <td>2013-02-23 12:48:16</td>\n",
       "      <td>11</td>\n",
       "    </tr>\n",
       "    <tr>\n",
       "      <th>1</th>\n",
       "      <td>publisher_update</td>\n",
       "      <td>control_group</td>\n",
       "      <td>2014-06-01 04:16:34</td>\n",
       "      <td>13192.0</td>\n",
       "      <td>2014-05-28 04:15:19</td>\n",
       "      <td>5</td>\n",
       "    </tr>\n",
       "    <tr>\n",
       "      <th>2</th>\n",
       "      <td>publisher_update</td>\n",
       "      <td>control_group</td>\n",
       "      <td>2014-06-01 04:41:16</td>\n",
       "      <td>13184.0</td>\n",
       "      <td>2014-05-28 04:39:41</td>\n",
       "      <td>2</td>\n",
       "    </tr>\n",
       "    <tr>\n",
       "      <th>3</th>\n",
       "      <td>publisher_update</td>\n",
       "      <td>control_group</td>\n",
       "      <td>2014-06-01 06:26:50</td>\n",
       "      <td>3584.0</td>\n",
       "      <td>2013-08-28 16:45:31</td>\n",
       "      <td>4</td>\n",
       "    </tr>\n",
       "    <tr>\n",
       "      <th>4</th>\n",
       "      <td>publisher_update</td>\n",
       "      <td>control_group</td>\n",
       "      <td>2014-06-01 07:07:15</td>\n",
       "      <td>13088.0</td>\n",
       "      <td>2014-05-27 10:41:22</td>\n",
       "      <td>2</td>\n",
       "    </tr>\n",
       "  </tbody>\n",
       "</table>\n",
       "</div>"
      ],
      "text/plain": [
       "         experiment experiment_group      treatment_start  user_id  \\\n",
       "0  publisher_update    control_group  2014-06-01 01:02:31    597.0   \n",
       "1  publisher_update    control_group  2014-06-01 04:16:34  13192.0   \n",
       "2  publisher_update    control_group  2014-06-01 04:41:16  13184.0   \n",
       "3  publisher_update    control_group  2014-06-01 06:26:50   3584.0   \n",
       "4  publisher_update    control_group  2014-06-01 07:07:15  13088.0   \n",
       "\n",
       "          activated_at  metric  \n",
       "0  2013-02-23 12:48:16      11  \n",
       "1  2014-05-28 04:15:19       5  \n",
       "2  2014-05-28 04:39:41       2  \n",
       "3  2013-08-28 16:45:31       4  \n",
       "4  2014-05-27 10:41:22       2  "
      ]
     },
     "execution_count": 6,
     "metadata": {},
     "output_type": "execute_result"
    }
   ],
   "source": [
    "sql = '''\n",
    "WITH experiment AS (\n",
    "    SELECT user_id, experiment, experiment_group, occurred_at\n",
    "    FROM experiments\n",
    "    WHERE experiment = 'publisher_update'\n",
    ")\n",
    "SELECT ex.experiment, ex.experiment_group, ex.occurred_at AS treatment_start,\n",
    "       u.user_id, u.activated_at,\n",
    "       COUNT(CASE WHEN e.event_name = 'login' THEN e.user_id ELSE NULL END) AS metric\n",
    "FROM experiment ex\n",
    "JOIN users u ON u.user_id = ex.user_id\n",
    "JOIN events e ON e.user_id = ex.user_id\n",
    "AND e.occurred_at >= ex.occurred_at\n",
    "AND e.occurred_at < '2014-07-01'\n",
    "AND e.event_type = 'engagement'\n",
    "GROUP BY 1, 2, 3, 4, 5\n",
    "'''\n",
    "SQL = pysqldf(sql)\n",
    "SQL.head()"
   ]
  },
  {
   "cell_type": "markdown",
   "metadata": {},
   "source": [
    "Sqlite does not provide standard deviation and variation calculation function. I found it really troublesom to do that on sqlite, thus I will use pandas to continue next step."
   ]
  },
  {
   "cell_type": "code",
   "execution_count": 7,
   "metadata": {},
   "outputs": [],
   "source": [
    "# 1. Calculating several statistics grouping by experiment and control groups\n",
    "def CalStat(sql_df):\n",
    "    cnt = sql_df[sql_df.experiment_group == 'control_group']\n",
    "    exp = sql_df[sql_df.experiment_group == 'test_group']\n",
    "    stat_df = pd.DataFrame({'experiment': ['publisher_update', 'publisher_update'],\n",
    "                             'experiment_group': ['control_group', 'test_group']})\n",
    "    stat_df['count'] = [len(cnt), len(exp)]\n",
    "    stat_df['average'] = [cnt['metric'].mean(), exp['metric'].mean()]\n",
    "    stat_df['sum'] = [sum(cnt.metric), sum(exp.metric)]\n",
    "    stat_df['stdev'] = [cnt['metric'].std(), exp['metric'].std()]\n",
    "    stat_df['variance'] = [cnt['metric'].var(), exp['metric'].var()]\n",
    "    return stat_df\n",
    "\n",
    "\n",
    "# 2. Significant test for two samples mean given two different variance\n",
    "def HypothesisTest(stat_df):\n",
    "    average_cnt, average_exp = stat_df['average'][0], stat_df['average'][1]\n",
    "    variance_cnt, variance_exp = stat_df['variance'][0], stat_df['variance'][1]\n",
    "    n_cnt, n_exp = stat_df['count'][0], stat_df['count'][1]\n",
    "\n",
    "    t_stat = ((average_exp - average_cnt) - 0) / np.sqrt(variance_exp/n_exp + variance_cnt/n_cnt)\n",
    "    degree_freedom = np.floor((variance_exp/n_exp + variance_cnt/n_cnt)**2 / ((variance_exp/n_exp)**2/(n_exp-1) + (variance_cnt/n_cnt)**2/(n_cnt-1)))\n",
    "    p_value = stats.t.sf(t_stat, degree_freedom)*2\n",
    "    print('T-statistic:', t_stat)\n",
    "    print('Degrees of Freedom:', degree_freedom)\n",
    "    print('P_Value:', p_value)\n",
    "    \n",
    "    if p_value < 0.05:\n",
    "        print('Reject Null Hypothesis')\n",
    "    else:\n",
    "        print('Accepct Null Hypothesis')\n",
    "\n",
    "        \n",
    "# 3. Plotting two samples mean value\n",
    "def BarPlot(stat_df, plot_name):\n",
    "    fig = plt.figure(figsize = (10, 6))\n",
    "    sns.barplot(x = 'experiment_group', y = 'average', data = stat_df, color = 'b')\n",
    "    plt.title( plot_name, fontsize = 13)\n",
    "    plt.show()"
   ]
  },
  {
   "cell_type": "code",
   "execution_count": 8,
   "metadata": {},
   "outputs": [
    {
     "data": {
      "text/html": [
       "<div>\n",
       "<style scoped>\n",
       "    .dataframe tbody tr th:only-of-type {\n",
       "        vertical-align: middle;\n",
       "    }\n",
       "\n",
       "    .dataframe tbody tr th {\n",
       "        vertical-align: top;\n",
       "    }\n",
       "\n",
       "    .dataframe thead th {\n",
       "        text-align: right;\n",
       "    }\n",
       "</style>\n",
       "<table border=\"1\" class=\"dataframe\">\n",
       "  <thead>\n",
       "    <tr style=\"text-align: right;\">\n",
       "      <th></th>\n",
       "      <th>experiment</th>\n",
       "      <th>experiment_group</th>\n",
       "      <th>count</th>\n",
       "      <th>average</th>\n",
       "      <th>sum</th>\n",
       "      <th>stdev</th>\n",
       "      <th>variance</th>\n",
       "    </tr>\n",
       "  </thead>\n",
       "  <tbody>\n",
       "    <tr>\n",
       "      <th>0</th>\n",
       "      <td>publisher_update</td>\n",
       "      <td>control_group</td>\n",
       "      <td>1746</td>\n",
       "      <td>3.315578</td>\n",
       "      <td>5789</td>\n",
       "      <td>2.577744</td>\n",
       "      <td>6.644766</td>\n",
       "    </tr>\n",
       "    <tr>\n",
       "      <th>1</th>\n",
       "      <td>publisher_update</td>\n",
       "      <td>test_group</td>\n",
       "      <td>849</td>\n",
       "      <td>4.100118</td>\n",
       "      <td>3481</td>\n",
       "      <td>3.311018</td>\n",
       "      <td>10.962842</td>\n",
       "    </tr>\n",
       "  </tbody>\n",
       "</table>\n",
       "</div>"
      ],
      "text/plain": [
       "         experiment experiment_group  count   average   sum     stdev  \\\n",
       "0  publisher_update    control_group   1746  3.315578  5789  2.577744   \n",
       "1  publisher_update       test_group    849  4.100118  3481  3.311018   \n",
       "\n",
       "    variance  \n",
       "0   6.644766  \n",
       "1  10.962842  "
      ]
     },
     "execution_count": 8,
     "metadata": {},
     "output_type": "execute_result"
    }
   ],
   "source": [
    "statistic_df = CalStat(SQL)\n",
    "statistic_df"
   ]
  },
  {
   "cell_type": "markdown",
   "metadata": {},
   "source": [
    "I find that the average logins on experimental groups are higher than the control group. To confirm that this change is significantly different (i.e. not due to random chance), I have to calculate t-statistic. "
   ]
  },
  {
   "cell_type": "code",
   "execution_count": 9,
   "metadata": {},
   "outputs": [
    {
     "name": "stdout",
     "output_type": "stream",
     "text": [
      "T-statistic: 6.067613028525296\n",
      "Degrees of Freedom: 1363.0\n",
      "P_Value: 1.6793641842552302e-09\n",
      "Reject Null Hypothesis\n"
     ]
    }
   ],
   "source": [
    "HypothesisTest(statistic_df)"
   ]
  },
  {
   "cell_type": "code",
   "execution_count": 10,
   "metadata": {},
   "outputs": [
    {
     "data": {
      "image/png": "[encoded data removed]",
      "text/plain": [
       "<Figure size 720x432 with 1 Axes>"
      ]
     },
     "metadata": {
      "needs_background": "light"
     },
     "output_type": "display_data"
    }
   ],
   "source": [
    "BarPlot(statistic_df, 'Average Logins, All Users')"
   ]
  },
  {
   "cell_type": "markdown",
   "metadata": {},
   "source": [
    "__Metric 2: Average days engaged__\n",
    "\n",
    "Secondly, I should take a look at whether users are engaging more into this app. Since there could be occation that users freqeuntly log in within the same day but also log out in quick session, causing the numbers of log in increase while the engagement days are flat. To make the hypothesis that the new feature did make a change more robust, I also compare users engagement on both groups.\n",
    "- __null hypothesis__ : the number of users engagement days after experiment is __the same as__ before.\n",
    "- __alternative hypothesis__ : the number of users engagement days after experiment is __significantly diffferent from__ the number before.\n",
    "\n",
    "I will conduct similar process same as average logins."
   ]
  },
  {
   "cell_type": "code",
   "execution_count": 11,
   "metadata": {},
   "outputs": [
    {
     "data": {
      "text/html": [
       "<div>\n",
       "<style scoped>\n",
       "    .dataframe tbody tr th:only-of-type {\n",
       "        vertical-align: middle;\n",
       "    }\n",
       "\n",
       "    .dataframe tbody tr th {\n",
       "        vertical-align: top;\n",
       "    }\n",
       "\n",
       "    .dataframe thead th {\n",
       "        text-align: right;\n",
       "    }\n",
       "</style>\n",
       "<table border=\"1\" class=\"dataframe\">\n",
       "  <thead>\n",
       "    <tr style=\"text-align: right;\">\n",
       "      <th></th>\n",
       "      <th>experiment</th>\n",
       "      <th>experiment_group</th>\n",
       "      <th>treatment_start</th>\n",
       "      <th>user_id</th>\n",
       "      <th>activated_at</th>\n",
       "      <th>metric</th>\n",
       "    </tr>\n",
       "  </thead>\n",
       "  <tbody>\n",
       "    <tr>\n",
       "      <th>0</th>\n",
       "      <td>publisher_update</td>\n",
       "      <td>control_group</td>\n",
       "      <td>2014-06-01 01:02:31</td>\n",
       "      <td>597.0</td>\n",
       "      <td>2013-02-23 12:48:16</td>\n",
       "      <td>9</td>\n",
       "    </tr>\n",
       "    <tr>\n",
       "      <th>1</th>\n",
       "      <td>publisher_update</td>\n",
       "      <td>control_group</td>\n",
       "      <td>2014-06-01 04:16:34</td>\n",
       "      <td>13192.0</td>\n",
       "      <td>2014-05-28 04:15:19</td>\n",
       "      <td>5</td>\n",
       "    </tr>\n",
       "    <tr>\n",
       "      <th>2</th>\n",
       "      <td>publisher_update</td>\n",
       "      <td>control_group</td>\n",
       "      <td>2014-06-01 04:41:16</td>\n",
       "      <td>13184.0</td>\n",
       "      <td>2014-05-28 04:39:41</td>\n",
       "      <td>2</td>\n",
       "    </tr>\n",
       "    <tr>\n",
       "      <th>3</th>\n",
       "      <td>publisher_update</td>\n",
       "      <td>control_group</td>\n",
       "      <td>2014-06-01 06:26:50</td>\n",
       "      <td>3584.0</td>\n",
       "      <td>2013-08-28 16:45:31</td>\n",
       "      <td>4</td>\n",
       "    </tr>\n",
       "    <tr>\n",
       "      <th>4</th>\n",
       "      <td>publisher_update</td>\n",
       "      <td>control_group</td>\n",
       "      <td>2014-06-01 07:07:15</td>\n",
       "      <td>13088.0</td>\n",
       "      <td>2014-05-27 10:41:22</td>\n",
       "      <td>2</td>\n",
       "    </tr>\n",
       "  </tbody>\n",
       "</table>\n",
       "</div>"
      ],
      "text/plain": [
       "         experiment experiment_group      treatment_start  user_id  \\\n",
       "0  publisher_update    control_group  2014-06-01 01:02:31    597.0   \n",
       "1  publisher_update    control_group  2014-06-01 04:16:34  13192.0   \n",
       "2  publisher_update    control_group  2014-06-01 04:41:16  13184.0   \n",
       "3  publisher_update    control_group  2014-06-01 06:26:50   3584.0   \n",
       "4  publisher_update    control_group  2014-06-01 07:07:15  13088.0   \n",
       "\n",
       "          activated_at  metric  \n",
       "0  2013-02-23 12:48:16       9  \n",
       "1  2014-05-28 04:15:19       5  \n",
       "2  2014-05-28 04:39:41       2  \n",
       "3  2013-08-28 16:45:31       4  \n",
       "4  2014-05-27 10:41:22       2  "
      ]
     },
     "execution_count": 11,
     "metadata": {},
     "output_type": "execute_result"
    }
   ],
   "source": [
    "sql = '''\n",
    "WITH experiment AS (\n",
    "    SELECT user_id, experiment, experiment_group, occurred_at\n",
    "    FROM experiments\n",
    "    WHERE experiment = 'publisher_update'\n",
    ")\n",
    "SELECT ex.experiment, ex.experiment_group, ex.occurred_at AS treatment_start,\n",
    "       u.user_id, u.activated_at,\n",
    "       COUNT(DISTINCT(strftime('%Y-%m-%d', e.occurred_at))) AS metric\n",
    "FROM experiment ex\n",
    "JOIN users u ON u.user_id = ex.user_id\n",
    "JOIN events e ON e.user_id = ex.user_id\n",
    "AND e.occurred_at >= ex.occurred_at\n",
    "AND e.occurred_at < '2014-07-01'\n",
    "AND e.event_type = 'engagement'\n",
    "GROUP BY 1, 2, 3, 4, 5\n",
    "'''\n",
    "SQL = pysqldf(sql)\n",
    "SQL.head()"
   ]
  },
  {
   "cell_type": "code",
   "execution_count": 12,
   "metadata": {},
   "outputs": [
    {
     "data": {
      "text/html": [
       "<div>\n",
       "<style scoped>\n",
       "    .dataframe tbody tr th:only-of-type {\n",
       "        vertical-align: middle;\n",
       "    }\n",
       "\n",
       "    .dataframe tbody tr th {\n",
       "        vertical-align: top;\n",
       "    }\n",
       "\n",
       "    .dataframe thead th {\n",
       "        text-align: right;\n",
       "    }\n",
       "</style>\n",
       "<table border=\"1\" class=\"dataframe\">\n",
       "  <thead>\n",
       "    <tr style=\"text-align: right;\">\n",
       "      <th></th>\n",
       "      <th>experiment</th>\n",
       "      <th>experiment_group</th>\n",
       "      <th>count</th>\n",
       "      <th>average</th>\n",
       "      <th>sum</th>\n",
       "      <th>stdev</th>\n",
       "      <th>variance</th>\n",
       "    </tr>\n",
       "  </thead>\n",
       "  <tbody>\n",
       "    <tr>\n",
       "      <th>0</th>\n",
       "      <td>publisher_update</td>\n",
       "      <td>control_group</td>\n",
       "      <td>1746</td>\n",
       "      <td>3.033792</td>\n",
       "      <td>5297</td>\n",
       "      <td>2.151964</td>\n",
       "      <td>4.630949</td>\n",
       "    </tr>\n",
       "    <tr>\n",
       "      <th>1</th>\n",
       "      <td>publisher_update</td>\n",
       "      <td>test_group</td>\n",
       "      <td>849</td>\n",
       "      <td>3.603062</td>\n",
       "      <td>3059</td>\n",
       "      <td>2.699413</td>\n",
       "      <td>7.286830</td>\n",
       "    </tr>\n",
       "  </tbody>\n",
       "</table>\n",
       "</div>"
      ],
      "text/plain": [
       "         experiment experiment_group  count   average   sum     stdev  \\\n",
       "0  publisher_update    control_group   1746  3.033792  5297  2.151964   \n",
       "1  publisher_update       test_group    849  3.603062  3059  2.699413   \n",
       "\n",
       "   variance  \n",
       "0  4.630949  \n",
       "1  7.286830  "
      ]
     },
     "execution_count": 12,
     "metadata": {},
     "output_type": "execute_result"
    }
   ],
   "source": [
    "statistic_df = CalStat(SQL)\n",
    "statistic_df"
   ]
  },
  {
   "cell_type": "code",
   "execution_count": 13,
   "metadata": {},
   "outputs": [
    {
     "name": "stdout",
     "output_type": "stream",
     "text": [
      "T-statistic: 5.370681448295528\n",
      "Degrees of Freedom: 1388.0\n",
      "P_Value: 9.186157314622304e-08\n",
      "Reject Null Hypothesis\n"
     ]
    }
   ],
   "source": [
    "HypothesisTest(statistic_df)"
   ]
  },
  {
   "cell_type": "code",
   "execution_count": 14,
   "metadata": {},
   "outputs": [
    {
     "data": {
      "image/png": "[encoded data removed]",
      "text/plain": [
       "<Figure size 720x432 with 1 Axes>"
      ]
     },
     "metadata": {
      "needs_background": "light"
     },
     "output_type": "display_data"
    }
   ],
   "source": [
    "BarPlot(statistic_df, 'Average Days Engaged, All users')"
   ]
  },
  {
   "cell_type": "markdown",
   "metadata": {},
   "source": [
    "To conclude, the average number of logins per user on the test group is significantly different from the control group, meaning that the users activity is more active after the change, they sign into Yammer more. Besides, the users' average days engaged in Yammer also significently different in experimental groups, meaning that users are logging in on more days as well. Since both metrics are up, it appears that the newly launch feature causing the change is not due to random chance, it's the sign that this feature attracts more user.\n",
    "\n",
    "However, I also notice that the number of usersin each group is severely uneven - the user count in control group is around twice as the count in experiment group. This is be one of the issue of A/B test - the users were treated incorrectly. Ideally, users should be treated randomly from each group, and it's better to have both groups similar amount of samples."
   ]
  },
  {
   "cell_type": "markdown",
   "metadata": {},
   "source": [
    "#### 2.2.2 Existing Users vs New Users\n",
    "\n",
    "After digging in deeper, since we're dealing with time series data, thus making our test imperfect and suffering from a dethodological error. That is, the test combines new users and existing users into the same group, and measures the number of messages they post during the testing window. To be more specific, users who signed up a day or two day before the test ended are considered as new users, however, they have much less time to post messages compared with old users. Therefore, it would make more sense to consider new and existing users separately. Not only does this make comparing magnitudes more appropriate, it also lets you test for novelty effects. For example, users familiar with Yammer might try out a new feature because it's new, temporarily boosting thier overall enagement; but the new feature are not novel to new users, so they are less likely to react to that difference.\n",
    "\n",
    "Let's first take a look at the users description in general."
   ]
  },
  {
   "cell_type": "code",
   "execution_count": 15,
   "metadata": {},
   "outputs": [
    {
     "data": {
      "text/html": [
       "<div>\n",
       "<style scoped>\n",
       "    .dataframe tbody tr th:only-of-type {\n",
       "        vertical-align: middle;\n",
       "    }\n",
       "\n",
       "    .dataframe tbody tr th {\n",
       "        vertical-align: top;\n",
       "    }\n",
       "\n",
       "    .dataframe thead th {\n",
       "        text-align: right;\n",
       "    }\n",
       "</style>\n",
       "<table border=\"1\" class=\"dataframe\">\n",
       "  <thead>\n",
       "    <tr style=\"text-align: right;\">\n",
       "      <th></th>\n",
       "      <th>y_m_activated</th>\n",
       "      <th>control_users</th>\n",
       "      <th>experiment_users</th>\n",
       "    </tr>\n",
       "  </thead>\n",
       "  <tbody>\n",
       "    <tr>\n",
       "      <th>13</th>\n",
       "      <td>2014-02</td>\n",
       "      <td>75</td>\n",
       "      <td>51</td>\n",
       "    </tr>\n",
       "    <tr>\n",
       "      <th>14</th>\n",
       "      <td>2014-03</td>\n",
       "      <td>81</td>\n",
       "      <td>60</td>\n",
       "    </tr>\n",
       "    <tr>\n",
       "      <th>15</th>\n",
       "      <td>2014-04</td>\n",
       "      <td>82</td>\n",
       "      <td>86</td>\n",
       "    </tr>\n",
       "    <tr>\n",
       "      <th>16</th>\n",
       "      <td>2014-05</td>\n",
       "      <td>182</td>\n",
       "      <td>203</td>\n",
       "    </tr>\n",
       "    <tr>\n",
       "      <th>17</th>\n",
       "      <td>2014-06</td>\n",
       "      <td>873</td>\n",
       "      <td>0</td>\n",
       "    </tr>\n",
       "  </tbody>\n",
       "</table>\n",
       "</div>"
      ],
      "text/plain": [
       "   y_m_activated  control_users  experiment_users\n",
       "13       2014-02             75                51\n",
       "14       2014-03             81                60\n",
       "15       2014-04             82                86\n",
       "16       2014-05            182               203\n",
       "17       2014-06            873                 0"
      ]
     },
     "execution_count": 15,
     "metadata": {},
     "output_type": "execute_result"
    }
   ],
   "source": [
    "sql = '''\n",
    "SELECT strftime('%Y-%m', u.activated_at) AS y_m_activated,\n",
    "       COUNT(CASE WHEN ex.experiment_group = 'control_group' THEN u.user_id ELSE NULL END) AS control_users,\n",
    "       COUNT(CASE WHEN ex.experiment_group = 'test_group' THEN u.user_id ELSE NULL END) AS experiment_users      \n",
    "FROM experiments ex\n",
    "JOIN users u ON ex.user_id = u.user_id\n",
    "GROUP BY 1\n",
    "ORDER BY 1\n",
    "'''\n",
    "SQL = pysqldf(sql)\n",
    "SQL.tail()"
   ]
  },
  {
   "cell_type": "code",
   "execution_count": 16,
   "metadata": {},
   "outputs": [
    {
     "data": {
      "image/png": "[encoded data removed]",
      "text/plain": [
       "<Figure size 1080x432 with 1 Axes>"
      ]
     },
     "metadata": {
      "needs_background": "light"
     },
     "output_type": "display_data"
    }
   ],
   "source": [
    "f, ax = plt.subplots(figsize = (15, 6))\n",
    "plt.plot(SQL['y_m_activated'], SQL['control_users'], label = 'control')\n",
    "plt.plot(SQL['y_m_activated'], SQL['experiment_users'], label = 'experiment')\n",
    "plt.legend()\n",
    "plt.title('Treatments by Month Activated', fontsize = 13)\n",
    "plt.show()"
   ]
  },
  {
   "cell_type": "markdown",
   "metadata": {},
   "source": [
    "As I've mentioned before, since new users have less time to engage the app, they would be expected to post less than existing users given their shorter exposure to Yammer. For those users in control group, they would tend to lower the overall posting rate within the group. To avoid this error, I would analyze the test in a way that ignores new users by only consider users activated one month prior to the date our test ended."
   ]
  },
  {
   "cell_type": "code",
   "execution_count": 17,
   "metadata": {},
   "outputs": [
    {
     "data": {
      "text/html": [
       "<div>\n",
       "<style scoped>\n",
       "    .dataframe tbody tr th:only-of-type {\n",
       "        vertical-align: middle;\n",
       "    }\n",
       "\n",
       "    .dataframe tbody tr th {\n",
       "        vertical-align: top;\n",
       "    }\n",
       "\n",
       "    .dataframe thead th {\n",
       "        text-align: right;\n",
       "    }\n",
       "</style>\n",
       "<table border=\"1\" class=\"dataframe\">\n",
       "  <thead>\n",
       "    <tr style=\"text-align: right;\">\n",
       "      <th></th>\n",
       "      <th>experiment_group</th>\n",
       "      <th>user_count</th>\n",
       "    </tr>\n",
       "  </thead>\n",
       "  <tbody>\n",
       "    <tr>\n",
       "      <th>0</th>\n",
       "      <td>control_group</td>\n",
       "      <td>873</td>\n",
       "    </tr>\n",
       "    <tr>\n",
       "      <th>1</th>\n",
       "      <td>test_group</td>\n",
       "      <td>849</td>\n",
       "    </tr>\n",
       "  </tbody>\n",
       "</table>\n",
       "</div>"
      ],
      "text/plain": [
       "  experiment_group  user_count\n",
       "0    control_group         873\n",
       "1       test_group         849"
      ]
     },
     "execution_count": 17,
     "metadata": {},
     "output_type": "execute_result"
    }
   ],
   "source": [
    "sql = '''\n",
    "WITH experiment AS (\n",
    "    SELECT user_id, experiment, experiment_group, occurred_at\n",
    "    FROM experiments\n",
    "    WHERE experiment = 'publisher_update'\n",
    ")\n",
    "SELECT a.experiment_group,\n",
    "       COUNT(a.user_id) user_count\n",
    "FROM( SELECT ex.experiment, \n",
    "             ex.experiment_group,\n",
    "             ex.occurred_at AS treatment_start,\n",
    "             u.user_id, \n",
    "             u.activated_at\n",
    "      FROM experiment ex\n",
    "      JOIN users u ON u.user_id = ex.user_id\n",
    "      AND u.activated_at < '2014-06-01' \n",
    "      JOIN events e ON e.user_id = ex.user_id\n",
    "      AND e.occurred_at >= ex.occurred_at\n",
    "      AND e.occurred_at <= '2014-07-01'\n",
    "      AND e.event_type = 'engagement'\n",
    "      GROUP BY 1,2,3,4,5) a\n",
    "GROUP BY 1\n",
    "'''\n",
    "SQL = pysqldf(sql)\n",
    "SQL"
   ]
  },
  {
   "cell_type": "markdown",
   "metadata": {},
   "source": [
    "Now, by spliting the existed users and new users, I notice that the number of users between two groups are very close, indicating that we may have successfully split traffic to each group evenly. To confirm this, I can conduct sanity check which can check whether they are equivalent between the two groups. "
   ]
  },
  {
   "cell_type": "code",
   "execution_count": 18,
   "metadata": {},
   "outputs": [
    {
     "name": "stdout",
     "output_type": "stream",
     "text": [
      "Control-Experiment Ratio:\t 0.6728323699421965\n",
      "Confidence Interval:\t\t ( 0.48076246538600953 ,  0.5192375346139905 )\n",
      "Sanity Check:\t\t\t Fail\n"
     ]
    }
   ],
   "source": [
    "# sanity check\n",
    "def get_z_score(alpha):\n",
    "    return -norm.ppf(alpha/2)\n",
    "\n",
    "cnt_users = statistic_df['count'][0]\n",
    "total_users = statistic_df['count'][0] + statistic_df['count'][1]\n",
    "ratio = cnt_users / total_users\n",
    "prob = 0.5\n",
    "alpha = 0.05\n",
    "std_err = np.sqrt(prob * (1-prob) / total_users)\n",
    "z_score = get_z_score(alpha)\n",
    "margin_err = z_score * std_err\n",
    "lower_bound = prob - margin_err\n",
    "upper_bound = prob + margin_err\n",
    "if (ratio > lower_bound) & (ratio < upper_bound):\n",
    "    sanity_check = 'Pass'\n",
    "else:\n",
    "    sanity_check = 'Fail'\n",
    "    \n",
    "print('Control-Experiment Ratio:\\t', ratio)\n",
    "print('Confidence Interval:\\t\\t', '(', lower_bound, ', ', upper_bound, ')')\n",
    "print('Sanity Check:\\t\\t\\t', sanity_check)"
   ]
  },
  {
   "cell_type": "markdown",
   "metadata": {},
   "source": [
    "Now we've passed the sanity checks, meaning that the sample user count is randomly split between two groups, then I can use the same testing hypothesis to observe the significance for metrics such as average messages sent, user logins etc.\n",
    "\n",
    "__Metric 1: Average Messages Sent, by Existing Users__"
   ]
  },
  {
   "cell_type": "code",
   "execution_count": 19,
   "metadata": {},
   "outputs": [
    {
     "data": {
      "text/html": [
       "<div>\n",
       "<style scoped>\n",
       "    .dataframe tbody tr th:only-of-type {\n",
       "        vertical-align: middle;\n",
       "    }\n",
       "\n",
       "    .dataframe tbody tr th {\n",
       "        vertical-align: top;\n",
       "    }\n",
       "\n",
       "    .dataframe thead th {\n",
       "        text-align: right;\n",
       "    }\n",
       "</style>\n",
       "<table border=\"1\" class=\"dataframe\">\n",
       "  <thead>\n",
       "    <tr style=\"text-align: right;\">\n",
       "      <th></th>\n",
       "      <th>experiment</th>\n",
       "      <th>experiment_group</th>\n",
       "      <th>treatment_start</th>\n",
       "      <th>user_id</th>\n",
       "      <th>activated_at</th>\n",
       "      <th>metric</th>\n",
       "    </tr>\n",
       "  </thead>\n",
       "  <tbody>\n",
       "    <tr>\n",
       "      <th>0</th>\n",
       "      <td>publisher_update</td>\n",
       "      <td>control_group</td>\n",
       "      <td>2014-06-01 01:02:31</td>\n",
       "      <td>597.0</td>\n",
       "      <td>2013-02-23 12:48:16</td>\n",
       "      <td>10</td>\n",
       "    </tr>\n",
       "    <tr>\n",
       "      <th>1</th>\n",
       "      <td>publisher_update</td>\n",
       "      <td>control_group</td>\n",
       "      <td>2014-06-01 04:16:34</td>\n",
       "      <td>13192.0</td>\n",
       "      <td>2014-05-28 04:15:19</td>\n",
       "      <td>3</td>\n",
       "    </tr>\n",
       "    <tr>\n",
       "      <th>2</th>\n",
       "      <td>publisher_update</td>\n",
       "      <td>control_group</td>\n",
       "      <td>2014-06-01 04:41:16</td>\n",
       "      <td>13184.0</td>\n",
       "      <td>2014-05-28 04:39:41</td>\n",
       "      <td>0</td>\n",
       "    </tr>\n",
       "    <tr>\n",
       "      <th>3</th>\n",
       "      <td>publisher_update</td>\n",
       "      <td>control_group</td>\n",
       "      <td>2014-06-01 06:26:50</td>\n",
       "      <td>3584.0</td>\n",
       "      <td>2013-08-28 16:45:31</td>\n",
       "      <td>3</td>\n",
       "    </tr>\n",
       "    <tr>\n",
       "      <th>4</th>\n",
       "      <td>publisher_update</td>\n",
       "      <td>control_group</td>\n",
       "      <td>2014-06-01 07:07:15</td>\n",
       "      <td>13088.0</td>\n",
       "      <td>2014-05-27 10:41:22</td>\n",
       "      <td>1</td>\n",
       "    </tr>\n",
       "  </tbody>\n",
       "</table>\n",
       "</div>"
      ],
      "text/plain": [
       "         experiment experiment_group      treatment_start  user_id  \\\n",
       "0  publisher_update    control_group  2014-06-01 01:02:31    597.0   \n",
       "1  publisher_update    control_group  2014-06-01 04:16:34  13192.0   \n",
       "2  publisher_update    control_group  2014-06-01 04:41:16  13184.0   \n",
       "3  publisher_update    control_group  2014-06-01 06:26:50   3584.0   \n",
       "4  publisher_update    control_group  2014-06-01 07:07:15  13088.0   \n",
       "\n",
       "          activated_at  metric  \n",
       "0  2013-02-23 12:48:16      10  \n",
       "1  2014-05-28 04:15:19       3  \n",
       "2  2014-05-28 04:39:41       0  \n",
       "3  2013-08-28 16:45:31       3  \n",
       "4  2014-05-27 10:41:22       1  "
      ]
     },
     "execution_count": 19,
     "metadata": {},
     "output_type": "execute_result"
    }
   ],
   "source": [
    "sql = '''\n",
    "WITH experiment AS (\n",
    "    SELECT user_id, experiment, experiment_group, occurred_at\n",
    "    FROM experiments\n",
    "    WHERE experiment = 'publisher_update'\n",
    ")\n",
    "SELECT ex.experiment, \n",
    "       ex.experiment_group, \n",
    "       ex.occurred_at AS treatment_start,\n",
    "       u.user_id, \n",
    "       u.activated_at,\n",
    "       COUNT(CASE WHEN e.event_name = 'send_message' THEN e.user_id ELSE NULL END) AS metric\n",
    "FROM experiment ex\n",
    "JOIN users u ON u.user_id = ex.user_id\n",
    "AND u.activated_at < '2014-06-01' \n",
    "JOIN events e ON e.user_id = ex.user_id\n",
    "AND e.occurred_at >= ex.occurred_at\n",
    "AND e.occurred_at <= '2014-07-01'\n",
    "AND e.event_type = 'engagement'\n",
    "GROUP BY 1, 2, 3, 4, 5\n",
    "'''\n",
    "SQL = pysqldf(sql)\n",
    "SQL.head()"
   ]
  },
  {
   "cell_type": "code",
   "execution_count": 20,
   "metadata": {},
   "outputs": [
    {
     "data": {
      "text/html": [
       "<div>\n",
       "<style scoped>\n",
       "    .dataframe tbody tr th:only-of-type {\n",
       "        vertical-align: middle;\n",
       "    }\n",
       "\n",
       "    .dataframe tbody tr th {\n",
       "        vertical-align: top;\n",
       "    }\n",
       "\n",
       "    .dataframe thead th {\n",
       "        text-align: right;\n",
       "    }\n",
       "</style>\n",
       "<table border=\"1\" class=\"dataframe\">\n",
       "  <thead>\n",
       "    <tr style=\"text-align: right;\">\n",
       "      <th></th>\n",
       "      <th>experiment</th>\n",
       "      <th>experiment_group</th>\n",
       "      <th>count</th>\n",
       "      <th>average</th>\n",
       "      <th>sum</th>\n",
       "      <th>stdev</th>\n",
       "      <th>variance</th>\n",
       "    </tr>\n",
       "  </thead>\n",
       "  <tbody>\n",
       "    <tr>\n",
       "      <th>0</th>\n",
       "      <td>publisher_update</td>\n",
       "      <td>control_group</td>\n",
       "      <td>873</td>\n",
       "      <td>2.916380</td>\n",
       "      <td>2546</td>\n",
       "      <td>3.875780</td>\n",
       "      <td>15.021669</td>\n",
       "    </tr>\n",
       "    <tr>\n",
       "      <th>1</th>\n",
       "      <td>publisher_update</td>\n",
       "      <td>test_group</td>\n",
       "      <td>849</td>\n",
       "      <td>4.075383</td>\n",
       "      <td>3460</td>\n",
       "      <td>4.767616</td>\n",
       "      <td>22.730160</td>\n",
       "    </tr>\n",
       "  </tbody>\n",
       "</table>\n",
       "</div>"
      ],
      "text/plain": [
       "         experiment experiment_group  count   average   sum     stdev  \\\n",
       "0  publisher_update    control_group    873  2.916380  2546  3.875780   \n",
       "1  publisher_update       test_group    849  4.075383  3460  4.767616   \n",
       "\n",
       "    variance  \n",
       "0  15.021669  \n",
       "1  22.730160  "
      ]
     },
     "execution_count": 20,
     "metadata": {},
     "output_type": "execute_result"
    }
   ],
   "source": [
    "statistic_df = CalStat(SQL)\n",
    "statistic_df"
   ]
  },
  {
   "cell_type": "code",
   "execution_count": 21,
   "metadata": {},
   "outputs": [
    {
     "name": "stdout",
     "output_type": "stream",
     "text": [
      "T-statistic: 5.526595498221134\n",
      "Degrees of Freedom: 1632.0\n",
      "P_Value: 3.794571309982159e-08\n",
      "Reject Null Hypothesis\n"
     ]
    }
   ],
   "source": [
    "HypothesisTest(statistic_df)"
   ]
  },
  {
   "cell_type": "code",
   "execution_count": 22,
   "metadata": {},
   "outputs": [
    {
     "data": {
      "image/png": "[encoded data removed]",
      "text/plain": [
       "<Figure size 720x432 with 1 Axes>"
      ]
     },
     "metadata": {
      "needs_background": "light"
     },
     "output_type": "display_data"
    }
   ],
   "source": [
    "BarPlot(statistic_df, 'Average Messages Sent, Existing Users')"
   ]
  },
  {
   "cell_type": "markdown",
   "metadata": {},
   "source": [
    "__Metric 2: Average Logins, by Existing Users__"
   ]
  },
  {
   "cell_type": "code",
   "execution_count": 23,
   "metadata": {},
   "outputs": [],
   "source": [
    "sql = '''\n",
    "WITH experiment AS (\n",
    "    SELECT user_id, experiment, experiment_group, occurred_at\n",
    "    FROM experiments\n",
    "    WHERE experiment = 'publisher_update'\n",
    ")\n",
    "SELECT ex.experiment, ex.experiment_group, ex.occurred_at AS treatment_start,\n",
    "       u.user_id, u.activated_at,\n",
    "       COUNT(CASE WHEN e.event_name = 'login' THEN e.user_id ELSE NULL END) AS metric\n",
    "FROM experiment ex\n",
    "JOIN users u ON u.user_id = ex.user_id\n",
    "AND u.activated_at < '2014-06-01' \n",
    "JOIN events e ON e.user_id = ex.user_id\n",
    "AND e.occurred_at >= ex.occurred_at\n",
    "AND e.occurred_at < '2014-07-01'\n",
    "AND e.event_type = 'engagement'\n",
    "GROUP BY 1, 2, 3, 4, 5\n",
    "'''\n",
    "SQL = pysqldf(sql)"
   ]
  },
  {
   "cell_type": "code",
   "execution_count": 24,
   "metadata": {},
   "outputs": [
    {
     "data": {
      "text/html": [
       "<div>\n",
       "<style scoped>\n",
       "    .dataframe tbody tr th:only-of-type {\n",
       "        vertical-align: middle;\n",
       "    }\n",
       "\n",
       "    .dataframe tbody tr th {\n",
       "        vertical-align: top;\n",
       "    }\n",
       "\n",
       "    .dataframe thead th {\n",
       "        text-align: right;\n",
       "    }\n",
       "</style>\n",
       "<table border=\"1\" class=\"dataframe\">\n",
       "  <thead>\n",
       "    <tr style=\"text-align: right;\">\n",
       "      <th></th>\n",
       "      <th>experiment</th>\n",
       "      <th>experiment_group</th>\n",
       "      <th>count</th>\n",
       "      <th>average</th>\n",
       "      <th>sum</th>\n",
       "      <th>stdev</th>\n",
       "      <th>variance</th>\n",
       "    </tr>\n",
       "  </thead>\n",
       "  <tbody>\n",
       "    <tr>\n",
       "      <th>0</th>\n",
       "      <td>publisher_update</td>\n",
       "      <td>control_group</td>\n",
       "      <td>873</td>\n",
       "      <td>3.553265</td>\n",
       "      <td>3102</td>\n",
       "      <td>2.840519</td>\n",
       "      <td>8.068547</td>\n",
       "    </tr>\n",
       "    <tr>\n",
       "      <th>1</th>\n",
       "      <td>publisher_update</td>\n",
       "      <td>test_group</td>\n",
       "      <td>849</td>\n",
       "      <td>4.100118</td>\n",
       "      <td>3481</td>\n",
       "      <td>3.311018</td>\n",
       "      <td>10.962842</td>\n",
       "    </tr>\n",
       "  </tbody>\n",
       "</table>\n",
       "</div>"
      ],
      "text/plain": [
       "         experiment experiment_group  count   average   sum     stdev  \\\n",
       "0  publisher_update    control_group    873  3.553265  3102  2.840519   \n",
       "1  publisher_update       test_group    849  4.100118  3481  3.311018   \n",
       "\n",
       "    variance  \n",
       "0   8.068547  \n",
       "1  10.962842  "
      ]
     },
     "execution_count": 24,
     "metadata": {},
     "output_type": "execute_result"
    }
   ],
   "source": [
    "statistic_df = CalStat(SQL)\n",
    "statistic_df"
   ]
  },
  {
   "cell_type": "code",
   "execution_count": 25,
   "metadata": {},
   "outputs": [
    {
     "name": "stdout",
     "output_type": "stream",
     "text": [
      "T-statistic: 3.673965838812351\n",
      "Degrees of Freedom: 1666.0\n",
      "P_Value: 0.0002463673195654913\n",
      "Reject Null Hypothesis\n"
     ]
    }
   ],
   "source": [
    "HypothesisTest(statistic_df)"
   ]
  },
  {
   "cell_type": "markdown",
   "metadata": {},
   "source": [
    "__Metric 3: Days Engaged for Existing Users, by Existing Users__"
   ]
  },
  {
   "cell_type": "code",
   "execution_count": 26,
   "metadata": {},
   "outputs": [],
   "source": [
    "sql = '''\n",
    "WITH experiment AS (\n",
    "    SELECT user_id, experiment, experiment_group, occurred_at\n",
    "    FROM experiments\n",
    "    WHERE experiment = 'publisher_update'\n",
    ")\n",
    "SELECT ex.experiment, \n",
    "       ex.experiment_group,\n",
    "       ex.occurred_at AS treatment_start,\n",
    "       u.user_id, \n",
    "       u.activated_at,\n",
    "       COUNT(DISTINCT(strftime('%Y-%m-%d', e.occurred_at))) AS metric\n",
    "FROM experiment ex\n",
    "JOIN users u ON u.user_id = ex.user_id\n",
    "AND u.activated_at < '2014-06-01' \n",
    "JOIN events e ON e.user_id = ex.user_id\n",
    "AND e.occurred_at >= ex.occurred_at\n",
    "AND e.occurred_at < '2014-07-01'\n",
    "AND e.event_type = 'engagement'\n",
    "GROUP BY 1, 2, 3, 4, 5\n",
    "'''\n",
    "SQL = pysqldf(sql)"
   ]
  },
  {
   "cell_type": "code",
   "execution_count": 27,
   "metadata": {},
   "outputs": [
    {
     "data": {
      "text/html": [
       "<div>\n",
       "<style scoped>\n",
       "    .dataframe tbody tr th:only-of-type {\n",
       "        vertical-align: middle;\n",
       "    }\n",
       "\n",
       "    .dataframe tbody tr th {\n",
       "        vertical-align: top;\n",
       "    }\n",
       "\n",
       "    .dataframe thead th {\n",
       "        text-align: right;\n",
       "    }\n",
       "</style>\n",
       "<table border=\"1\" class=\"dataframe\">\n",
       "  <thead>\n",
       "    <tr style=\"text-align: right;\">\n",
       "      <th></th>\n",
       "      <th>experiment</th>\n",
       "      <th>experiment_group</th>\n",
       "      <th>count</th>\n",
       "      <th>average</th>\n",
       "      <th>sum</th>\n",
       "      <th>stdev</th>\n",
       "      <th>variance</th>\n",
       "    </tr>\n",
       "  </thead>\n",
       "  <tbody>\n",
       "    <tr>\n",
       "      <th>0</th>\n",
       "      <td>publisher_update</td>\n",
       "      <td>control_group</td>\n",
       "      <td>873</td>\n",
       "      <td>3.183276</td>\n",
       "      <td>2779</td>\n",
       "      <td>2.335573</td>\n",
       "      <td>5.454903</td>\n",
       "    </tr>\n",
       "    <tr>\n",
       "      <th>1</th>\n",
       "      <td>publisher_update</td>\n",
       "      <td>test_group</td>\n",
       "      <td>849</td>\n",
       "      <td>3.603062</td>\n",
       "      <td>3059</td>\n",
       "      <td>2.699413</td>\n",
       "      <td>7.286830</td>\n",
       "    </tr>\n",
       "  </tbody>\n",
       "</table>\n",
       "</div>"
      ],
      "text/plain": [
       "         experiment experiment_group  count   average   sum     stdev  \\\n",
       "0  publisher_update    control_group    873  3.183276  2779  2.335573   \n",
       "1  publisher_update       test_group    849  3.603062  3059  2.699413   \n",
       "\n",
       "   variance  \n",
       "0  5.454903  \n",
       "1  7.286830  "
      ]
     },
     "execution_count": 27,
     "metadata": {},
     "output_type": "execute_result"
    }
   ],
   "source": [
    "statistic_df = CalStat(SQL)\n",
    "statistic_df"
   ]
  },
  {
   "cell_type": "code",
   "execution_count": 28,
   "metadata": {},
   "outputs": [
    {
     "name": "stdout",
     "output_type": "stream",
     "text": [
      "T-statistic: 3.446980063532932\n",
      "Degrees of Freedom: 1670.0\n",
      "P_Value: 0.0005809458357772893\n",
      "Reject Null Hypothesis\n"
     ]
    }
   ],
   "source": [
    "HypothesisTest(statistic_df)"
   ]
  },
  {
   "cell_type": "markdown",
   "metadata": {},
   "source": [
    "Overall, after testing average logins, days engagement and average message sent again with only the existing users, the test results are still strong. This indicates that indroducing this new features to customers could bring more users' interactions within the app."
   ]
  },
  {
   "cell_type": "markdown",
   "metadata": {},
   "source": [
    "#### 2.1.3 Device\n",
    "\n",
    "Given the above result, I would still only take those old users into my next analysis. Now, I focus on analyzing device differences across control and experiment group. I will first creating another column that identify the device type, then conduct testing on average logins to investigate that whether all three types of device have increment on users activities.\n",
    "\n",
    "__Average Logins, by Device__"
   ]
  },
  {
   "cell_type": "code",
   "execution_count": 29,
   "metadata": {},
   "outputs": [
    {
     "data": {
      "text/html": [
       "<div>\n",
       "<style scoped>\n",
       "    .dataframe tbody tr th:only-of-type {\n",
       "        vertical-align: middle;\n",
       "    }\n",
       "\n",
       "    .dataframe tbody tr th {\n",
       "        vertical-align: top;\n",
       "    }\n",
       "\n",
       "    .dataframe thead th {\n",
       "        text-align: right;\n",
       "    }\n",
       "</style>\n",
       "<table border=\"1\" class=\"dataframe\">\n",
       "  <thead>\n",
       "    <tr style=\"text-align: right;\">\n",
       "      <th></th>\n",
       "      <th>experiment</th>\n",
       "      <th>experiment_group</th>\n",
       "      <th>treatment_start</th>\n",
       "      <th>user_id</th>\n",
       "      <th>activated_at</th>\n",
       "      <th>platform</th>\n",
       "      <th>metric</th>\n",
       "    </tr>\n",
       "  </thead>\n",
       "  <tbody>\n",
       "    <tr>\n",
       "      <th>0</th>\n",
       "      <td>publisher_update</td>\n",
       "      <td>control_group</td>\n",
       "      <td>2014-06-01 01:02:31</td>\n",
       "      <td>597.0</td>\n",
       "      <td>2013-02-23 12:48:16</td>\n",
       "      <td>mobile</td>\n",
       "      <td>11</td>\n",
       "    </tr>\n",
       "    <tr>\n",
       "      <th>1</th>\n",
       "      <td>publisher_update</td>\n",
       "      <td>control_group</td>\n",
       "      <td>2014-06-01 04:16:34</td>\n",
       "      <td>13192.0</td>\n",
       "      <td>2014-05-28 04:15:19</td>\n",
       "      <td>computer</td>\n",
       "      <td>5</td>\n",
       "    </tr>\n",
       "    <tr>\n",
       "      <th>2</th>\n",
       "      <td>publisher_update</td>\n",
       "      <td>control_group</td>\n",
       "      <td>2014-06-01 04:41:16</td>\n",
       "      <td>13184.0</td>\n",
       "      <td>2014-05-28 04:39:41</td>\n",
       "      <td>computer</td>\n",
       "      <td>2</td>\n",
       "    </tr>\n",
       "    <tr>\n",
       "      <th>3</th>\n",
       "      <td>publisher_update</td>\n",
       "      <td>control_group</td>\n",
       "      <td>2014-06-01 06:26:50</td>\n",
       "      <td>3584.0</td>\n",
       "      <td>2013-08-28 16:45:31</td>\n",
       "      <td>tablet</td>\n",
       "      <td>4</td>\n",
       "    </tr>\n",
       "    <tr>\n",
       "      <th>4</th>\n",
       "      <td>publisher_update</td>\n",
       "      <td>control_group</td>\n",
       "      <td>2014-06-01 07:07:15</td>\n",
       "      <td>13088.0</td>\n",
       "      <td>2014-05-27 10:41:22</td>\n",
       "      <td>computer</td>\n",
       "      <td>2</td>\n",
       "    </tr>\n",
       "  </tbody>\n",
       "</table>\n",
       "</div>"
      ],
      "text/plain": [
       "         experiment experiment_group      treatment_start  user_id  \\\n",
       "0  publisher_update    control_group  2014-06-01 01:02:31    597.0   \n",
       "1  publisher_update    control_group  2014-06-01 04:16:34  13192.0   \n",
       "2  publisher_update    control_group  2014-06-01 04:41:16  13184.0   \n",
       "3  publisher_update    control_group  2014-06-01 06:26:50   3584.0   \n",
       "4  publisher_update    control_group  2014-06-01 07:07:15  13088.0   \n",
       "\n",
       "          activated_at  platform  metric  \n",
       "0  2013-02-23 12:48:16    mobile      11  \n",
       "1  2014-05-28 04:15:19  computer       5  \n",
       "2  2014-05-28 04:39:41  computer       2  \n",
       "3  2013-08-28 16:45:31    tablet       4  \n",
       "4  2014-05-27 10:41:22  computer       2  "
      ]
     },
     "execution_count": 29,
     "metadata": {},
     "output_type": "execute_result"
    }
   ],
   "source": [
    "sql = '''\n",
    "WITH event AS(\n",
    "    SELECT *,\n",
    "           CASE WHEN device IN ('amazon fire phone', 'nexus 10', 'iphone 5', 'nexus 7', 'iphone 5s', 'nexus 5', 'htc one', 'iphone 4s', 'samsung galaxy note', 'nokia lumia 635', 'samsung galaxy s4') THEN 'mobile'\n",
    "                WHEN device IN ('ipad mini', 'samsung galaxy tablet', 'kindle fire', 'ipad air') THEN 'tablet'\n",
    "                WHEN device IN ('dell inspiron desktop', 'macbook pro', 'asus chromebook', 'windows surface', 'macbook air', 'lenovo thinkpad', 'mac mini', 'acer aspire desktop', 'acer aspire notebook', 'dell inspiron notebook', 'hp pavilion desktop') THEN 'computer'\n",
    "                ELSE null END AS platform\n",
    "    FROM events\n",
    ")\n",
    "SELECT ex.experiment, \n",
    "       ex.experiment_group,\n",
    "       ex.occurred_at AS treatment_start,\n",
    "       u.user_id, \n",
    "       u.activated_at,\n",
    "       e.platform,\n",
    "       COUNT(CASE WHEN e.event_name = 'login' THEN e.user_id ELSE NULL END) AS metric\n",
    "FROM experiments ex\n",
    "JOIN users u ON u.user_id = ex.user_id\n",
    "AND u.activated_at < '2014-06-01' \n",
    "JOIN event e ON e.user_id = ex.user_id\n",
    "AND e.occurred_at >= ex.occurred_at\n",
    "AND e.occurred_at < '2014-07-01'\n",
    "AND e.event_type = 'engagement'\n",
    "GROUP BY 1, 2, 3, 4, 5\n",
    "'''\n",
    "SQL = pysqldf(sql)\n",
    "SQL.head()"
   ]
  },
  {
   "cell_type": "code",
   "execution_count": 30,
   "metadata": {},
   "outputs": [
    {
     "data": {
      "text/html": [
       "<div>\n",
       "<style scoped>\n",
       "    .dataframe tbody tr th:only-of-type {\n",
       "        vertical-align: middle;\n",
       "    }\n",
       "\n",
       "    .dataframe tbody tr th {\n",
       "        vertical-align: top;\n",
       "    }\n",
       "\n",
       "    .dataframe thead th {\n",
       "        text-align: right;\n",
       "    }\n",
       "</style>\n",
       "<table border=\"1\" class=\"dataframe\">\n",
       "  <thead>\n",
       "    <tr style=\"text-align: right;\">\n",
       "      <th></th>\n",
       "      <th></th>\n",
       "      <th>average</th>\n",
       "      <th>stdev</th>\n",
       "      <th>variance</th>\n",
       "      <th>count</th>\n",
       "    </tr>\n",
       "    <tr>\n",
       "      <th>platform</th>\n",
       "      <th>experiment_group</th>\n",
       "      <th></th>\n",
       "      <th></th>\n",
       "      <th></th>\n",
       "      <th></th>\n",
       "    </tr>\n",
       "  </thead>\n",
       "  <tbody>\n",
       "    <tr>\n",
       "      <th rowspan=\"2\" valign=\"top\">computer</th>\n",
       "      <th>control_group</th>\n",
       "      <td>3.602000</td>\n",
       "      <td>2.724416</td>\n",
       "      <td>7.422441</td>\n",
       "      <td>500</td>\n",
       "    </tr>\n",
       "    <tr>\n",
       "      <th>test_group</th>\n",
       "      <td>4.160677</td>\n",
       "      <td>3.440717</td>\n",
       "      <td>11.838535</td>\n",
       "      <td>473</td>\n",
       "    </tr>\n",
       "    <tr>\n",
       "      <th rowspan=\"2\" valign=\"top\">mobile</th>\n",
       "      <th>control_group</th>\n",
       "      <td>3.525806</td>\n",
       "      <td>3.047251</td>\n",
       "      <td>9.285740</td>\n",
       "      <td>310</td>\n",
       "    </tr>\n",
       "    <tr>\n",
       "      <th>test_group</th>\n",
       "      <td>4.065015</td>\n",
       "      <td>3.166024</td>\n",
       "      <td>10.023710</td>\n",
       "      <td>323</td>\n",
       "    </tr>\n",
       "    <tr>\n",
       "      <th rowspan=\"2\" valign=\"top\">tablet</th>\n",
       "      <th>control_group</th>\n",
       "      <td>3.338710</td>\n",
       "      <td>2.721761</td>\n",
       "      <td>7.407985</td>\n",
       "      <td>62</td>\n",
       "    </tr>\n",
       "    <tr>\n",
       "      <th>test_group</th>\n",
       "      <td>3.510638</td>\n",
       "      <td>2.765253</td>\n",
       "      <td>7.646623</td>\n",
       "      <td>47</td>\n",
       "    </tr>\n",
       "  </tbody>\n",
       "</table>\n",
       "</div>"
      ],
      "text/plain": [
       "                            average     stdev   variance  count\n",
       "platform experiment_group                                      \n",
       "computer control_group     3.602000  2.724416   7.422441    500\n",
       "         test_group        4.160677  3.440717  11.838535    473\n",
       "mobile   control_group     3.525806  3.047251   9.285740    310\n",
       "         test_group        4.065015  3.166024  10.023710    323\n",
       "tablet   control_group     3.338710  2.721761   7.407985     62\n",
       "         test_group        3.510638  2.765253   7.646623     47"
      ]
     },
     "execution_count": 30,
     "metadata": {},
     "output_type": "execute_result"
    }
   ],
   "source": [
    "grouping = pd.DataFrame(SQL.groupby(['platform', 'experiment_group'])['metric'].agg([('average', 'mean'), ('stdev', np.std), ('variance', np.var), ('count', 'size')]))\n",
    "grouping"
   ]
  },
  {
   "cell_type": "code",
   "execution_count": 31,
   "metadata": {},
   "outputs": [
    {
     "data": {
      "image/png": "[encoded data removed]",
      "text/plain": [
       "<Figure size 720x432 with 1 Axes>"
      ]
     },
     "metadata": {
      "needs_background": "light"
     },
     "output_type": "display_data"
    }
   ],
   "source": [
    "grouping['average'].unstack().plot(kind = 'bar', figsize = (10, 6))\n",
    "plt.xticks(rotation = 'horizontal')\n",
    "plt.title('Average Logins, by Device Type', fontsize = 13)\n",
    "plt.show()"
   ]
  },
  {
   "cell_type": "markdown",
   "metadata": {},
   "source": [
    "Now, I found that among three types of devices, `computer` and `mobile` have obvious increment while `tablet` only has small amount of increase, not very obvious. To confirm that whether these three rises are not due to random chance, I will conduct hypothesis testing to three devices across two groups seperately."
   ]
  },
  {
   "cell_type": "code",
   "execution_count": 32,
   "metadata": {},
   "outputs": [],
   "source": [
    "computer = grouping.loc['computer'].reset_index()\n",
    "mobile = grouping.loc['mobile'].reset_index()\n",
    "tablet = grouping.loc['tablet'].reset_index()"
   ]
  },
  {
   "cell_type": "code",
   "execution_count": 33,
   "metadata": {},
   "outputs": [
    {
     "name": "stdout",
     "output_type": "stream",
     "text": [
      "For Computer: \n",
      "T-statistic: 2.797810300308778\n",
      "Degrees of Freedom: 898.0\n",
      "P_Value: 0.005255109802487075\n",
      "Reject Null Hypothesis\n",
      "\n",
      "For Mobile: \n",
      "T-statistic: 2.797810300308778\n",
      "Degrees of Freedom: 898.0\n",
      "P_Value: 0.005255109802487075\n",
      "Reject Null Hypothesis\n",
      "\n",
      "For Tablet: \n",
      "T-statistic: 0.3236583352762302\n",
      "Degrees of Freedom: 98.0\n",
      "P_Value: 0.7468864037542629\n",
      "Accepct Null Hypothesis\n"
     ]
    }
   ],
   "source": [
    "print('For Computer: ')\n",
    "HypothesisTest(computer)\n",
    "\n",
    "print('\\nFor Mobile: ')\n",
    "HypothesisTest(computer)\n",
    "\n",
    "print('\\nFor Tablet: ')\n",
    "HypothesisTest(tablet)"
   ]
  },
  {
   "cell_type": "markdown",
   "metadata": {},
   "source": [
    "Just as what I expected, only computer and mobile have more logins activity while the number of tablet logins remains unchanged. This indicate that the new feature only has positive impact to customers use device like computer or mobile."
   ]
  },
  {
   "cell_type": "markdown",
   "metadata": {},
   "source": [
    "\n",
    "## 3 Conclusion\n",
    "\n",
    "This analysis begins by investigating user logins and engagements using A/B testing to observe whether launching a new feature could increase users' interaction with the app. I started by analyze average longins and average days engaged and found that the experiment group has huge improvement of users interactions compared with control group. But I also notice that the traffics diversed to each group are uneven, meaning that there are over double amount of users being distributed to control group. Since running the A/B test should be caucious about the number of sample of each group, I chose to select users that activate their Yammer account over a month before the test ended data, thus those new users who might lower the activities on the control group are ruled out. I conducted a sanity check before tests to make sure the traffic is distributed evenly. After observing the metrics - average longins , average days engaged and average message sent, the changes were still obvious. Finally, I added another cohort of users - splitting users by their device types - to figure out if the impact works for all kinds of device users. But quite the opposite, only the computer and mobile users react to this new change.\n",
    "\n",
    "To conclude, I would suggest launching the new feature since its reactions on experiment are generally good. But at the same time, I would also work with technical team to figure out the tablet version to see why users of tablet don't have much improvement, is it due to broken feature/button on the tablet version?\n",
    "\n",
    "To further improve this analysis, I can also add another group of users by dividing them according to the user types, maybe different types of users, like users from different industries or job occupations might impact their preferences towards the features within the application.\n",
    "\n"
   ]
  }
 ],
 "metadata": {
  "kernelspec": {
   "display_name": "Python 3",
   "language": "python",
   "name": "python3"
  },
  "language_info": {
   "codemirror_mode": {
    "name": "ipython",
    "version": 3
   },
   "file_extension": ".py",
   "mimetype": "text/x-python",
   "name": "python",
   "nbconvert_exporter": "python",
   "pygments_lexer": "ipython3",
   "version": "3.6.10"
  }
 },
 "nbformat": 4,
 "nbformat_minor": 4
}
